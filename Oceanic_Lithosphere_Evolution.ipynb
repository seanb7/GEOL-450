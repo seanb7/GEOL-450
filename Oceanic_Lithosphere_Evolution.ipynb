{
  "nbformat": 4,
  "nbformat_minor": 0,
  "metadata": {
    "colab": {
      "provenance": [],
      "authorship_tag": "ABX9TyPQxZodI8GO0kVkr9FVXEqI",
      "include_colab_link": true
    },
    "kernelspec": {
      "name": "python3",
      "display_name": "Python 3"
    },
    "language_info": {
      "name": "python"
    }
  },
  "cells": [
    {
      "cell_type": "markdown",
      "metadata": {
        "id": "view-in-github",
        "colab_type": "text"
      },
      "source": [
        "<a href=\"https://colab.research.google.com/github/seanb7/GEOL-450/blob/main/Oceanic_Lithosphere_Evolution.ipynb\" target=\"_parent\"><img src=\"https://colab.research.google.com/assets/colab-badge.svg\" alt=\"Open In Colab\"/></a>"
      ]
    },
    {
      "cell_type": "markdown",
      "source": [
        "# What is the spreading rate at the East Pacific Rise at 45 degrees South?\n",
        "Mid Atlantic Ridge spreading rate = 23 mm/yr - 267.9 deg. North\n",
        "East Pacific Rise spreading rate = 142 mm/yr - 103.7 deg. North"
      ],
      "metadata": {
        "id": "8JI_odFjB7sA"
      }
    },
    {
      "cell_type": "code",
      "source": [],
      "metadata": {
        "id": "xQeFoT-1B6O2"
      },
      "execution_count": null,
      "outputs": []
    }
  ]
}